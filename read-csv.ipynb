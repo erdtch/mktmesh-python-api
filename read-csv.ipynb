{
 "cells": [
  {
   "cell_type": "code",
   "execution_count": 1,
   "metadata": {},
   "outputs": [
    {
     "name": "stdout",
     "output_type": "stream",
     "text": [
      "                      open   high    low  close     volume  oi\n",
      "time                                                          \n",
      "2017-01-04 00:00:00  37.40  38.10  37.30  38.00    7587900   0\n",
      "2017-01-04 00:00:00  37.40  38.10  37.30  38.00    7587900   0\n",
      "2017-01-05 00:00:00  38.20  38.80  38.20  38.70    7528200   0\n",
      "2017-01-05 00:00:00  38.20  38.80  38.20  38.70    7528200   0\n",
      "2017-01-06 00:00:00  38.70  38.90  38.50  38.90    4512900   0\n",
      "2017-01-06 00:00:00  38.70  38.90  38.50  38.90    4512900   0\n",
      "2017-01-09 00:00:00  38.90  39.00  38.20  38.30    4045500   0\n",
      "2017-01-09 00:00:00  38.90  39.00  38.20  38.30    4045500   0\n",
      "2017-01-10 00:00:00  38.30  38.90  38.20  38.80    4322400   0\n",
      "2017-01-10 00:00:00  38.30  38.90  38.20  38.80    4322400   0\n",
      "2017-01-11 00:00:00  38.50  38.90  38.50  38.50    3817700   0\n",
      "2017-01-11 00:00:00  38.50  38.90  38.50  38.50    3817700   0\n",
      "2017-01-12 00:00:00  38.90  38.90  38.30  38.30    3531300   0\n",
      "2017-01-12 00:00:00  38.90  38.90  38.30  38.30    3531300   0\n",
      "2017-01-13 00:00:00  38.50  38.70  38.30  38.60    3745600   0\n",
      "2017-01-13 00:00:00  38.50  38.70  38.30  38.60    3745600   0\n",
      "2017-01-16 00:00:00  38.60  39.10  38.50  38.90    4280900   0\n",
      "2017-01-16 00:00:00  38.60  39.10  38.50  38.90    4280900   0\n",
      "2017-01-17 00:00:00  38.80  39.00  38.60  38.70    3214100   0\n",
      "2017-01-17 00:00:00  38.80  39.00  38.60  38.70    3214100   0\n",
      "2017-01-18 00:00:00  38.70  38.80  38.50  38.50    2366500   0\n",
      "2017-01-18 00:00:00  38.70  38.80  38.50  38.50    2366500   0\n",
      "2017-01-19 00:00:00  38.50  38.60  38.30  38.50    3212100   0\n",
      "2017-01-19 00:00:00  38.50  38.60  38.30  38.50    3212100   0\n",
      "2017-01-20 00:00:00  38.70  38.80  38.50  38.60    3302700   0\n",
      "2017-01-20 00:00:00  38.70  38.80  38.50  38.60    3302700   0\n",
      "2017-01-23 00:00:00  38.70  38.90  38.50  38.90    2496300   0\n",
      "2017-01-23 00:00:00  38.70  38.90  38.50  38.90    2496300   0\n",
      "2017-01-24 00:00:00  38.90  40.80  38.90  40.80   12898300   0\n",
      "2017-01-24 00:00:00  38.90  40.80  38.90  40.80   12898300   0\n",
      "...                    ...    ...    ...    ...        ...  ..\n",
      "2018-07-04 00:00:00  47.50  47.75  47.00  47.75   58381700   0\n",
      "2018-07-05 00:00:00  47.50  47.75  46.25  46.25   77335700   0\n",
      "2018-07-06 00:00:00  46.25  46.50  44.25  46.25  157614000   0\n",
      "2018-07-09 00:00:00  47.00  47.25  46.50  47.00   51029600   0\n",
      "2018-07-10 00:00:00  47.00  48.75  46.50  48.75   84328400   0\n",
      "2018-07-11 00:00:00  48.00  48.75  47.75  48.50   74055100   0\n",
      "2018-07-12 00:00:00  48.00  48.50  47.75  48.00   54379100   0\n",
      "2018-07-13 00:00:00  48.00  48.25  47.50  47.50   36081100   0\n",
      "2018-07-16 00:00:00  47.25  48.00  47.25  47.50   29481300   0\n",
      "2018-07-17 00:00:00  47.50  48.25  47.25  47.75   58694800   0\n",
      "2018-07-18 00:00:00  48.50  49.75  48.25  49.50   96638300   0\n",
      "2018-07-19 00:00:00  49.75  50.00  49.00  49.50   53977500   0\n",
      "2018-07-20 00:00:00  49.50  51.50  49.25  51.50  117827700   0\n",
      "2018-07-23 00:00:00  51.25  51.50  50.75  51.00   45791600   0\n",
      "2018-07-24 00:00:00  51.25  51.75  50.25  50.25   63252200   0\n",
      "2018-07-25 00:00:00  50.25  51.50  50.25  51.00   56717600   0\n",
      "2018-07-26 00:00:00  51.50  51.75  50.75  51.75   68520700   0\n",
      "2018-07-31 00:00:00  51.50  51.75  50.75  51.25   84223400   0\n",
      "2018-08-01 00:00:00  51.25  52.75  50.75  52.50  115565400   0\n",
      "2018-08-02 07:00:00  52.00  52.50  51.50  52.00   77496200   0\n",
      "2018-08-03 07:00:00  51.75  52.25  51.50  51.75   41694700   0\n",
      "2018-08-06 07:00:00  52.00  52.25  51.25  51.50   39754800   0\n",
      "2018-08-07 07:00:00  51.75  52.50  51.25  52.25   58994400   0\n",
      "2018-08-08 07:00:00  52.25  53.00  52.25  53.00   82988200   0\n",
      "2018-08-09 07:00:00  52.50  53.00  52.50  52.50   50597000   0\n",
      "2018-08-10 07:00:00  52.25  52.75  51.75  51.75   47011600   0\n",
      "2018-08-14 07:00:00  51.50  52.00  51.00  51.75   58340400   0\n",
      "2018-08-15 07:00:00  51.50  51.75  50.75  51.00   52610500   0\n",
      "2018-08-16 07:00:00  50.50  50.75  49.50  50.50   95573700   0\n",
      "2018-08-17 07:00:00  51.00  52.00  51.00  51.50   70988500   0\n",
      "\n",
      "[731 rows x 6 columns]\n"
     ]
    }
   ],
   "source": [
    "import pandas as pd\n",
    "\n",
    "df = pd.read_csv('candlestick.csv', names=['time', 'open', 'high', 'low', 'close', 'volume', 'oi'],\n",
    "                 index_col='time', parse_dates=True)\n",
    "print(df)"
   ]
  },
  {
   "cell_type": "code",
   "execution_count": 2,
   "metadata": {},
   "outputs": [
    {
     "name": "stdout",
     "output_type": "stream",
     "text": [
      "                      open   high    low  close    volume  oi\n",
      "time                                                         \n",
      "2018-08-03 07:00:00  51.75  52.25  51.50  51.75  41694700   0\n",
      "2018-08-06 07:00:00  52.00  52.25  51.25  51.50  39754800   0\n",
      "2018-08-07 07:00:00  51.75  52.50  51.25  52.25  58994400   0\n",
      "2018-08-08 07:00:00  52.25  53.00  52.25  53.00  82988200   0\n",
      "2018-08-09 07:00:00  52.50  53.00  52.50  52.50  50597000   0\n",
      "2018-08-10 07:00:00  52.25  52.75  51.75  51.75  47011600   0\n",
      "2018-08-14 07:00:00  51.50  52.00  51.00  51.75  58340400   0\n",
      "2018-08-15 07:00:00  51.50  51.75  50.75  51.00  52610500   0\n",
      "2018-08-16 07:00:00  50.50  50.75  49.50  50.50  95573700   0\n",
      "2018-08-17 07:00:00  51.00  52.00  51.00  51.50  70988500   0\n"
     ]
    }
   ],
   "source": [
    "print(df.tail(10))"
   ]
  },
  {
   "cell_type": "code",
   "execution_count": 3,
   "metadata": {},
   "outputs": [
    {
     "data": {
      "text/html": [
       "<div>\n",
       "<style scoped>\n",
       "    .dataframe tbody tr th:only-of-type {\n",
       "        vertical-align: middle;\n",
       "    }\n",
       "\n",
       "    .dataframe tbody tr th {\n",
       "        vertical-align: top;\n",
       "    }\n",
       "\n",
       "    .dataframe thead th {\n",
       "        text-align: right;\n",
       "    }\n",
       "</style>\n",
       "<table border=\"1\" class=\"dataframe\">\n",
       "  <thead>\n",
       "    <tr style=\"text-align: right;\">\n",
       "      <th></th>\n",
       "      <th>open</th>\n",
       "      <th>high</th>\n",
       "      <th>low</th>\n",
       "      <th>close</th>\n",
       "      <th>volume</th>\n",
       "      <th>oi</th>\n",
       "    </tr>\n",
       "    <tr>\n",
       "      <th>time</th>\n",
       "      <th></th>\n",
       "      <th></th>\n",
       "      <th></th>\n",
       "      <th></th>\n",
       "      <th></th>\n",
       "      <th></th>\n",
       "    </tr>\n",
       "  </thead>\n",
       "  <tbody>\n",
       "    <tr>\n",
       "      <th>2017-01-04</th>\n",
       "      <td>37.4</td>\n",
       "      <td>38.1</td>\n",
       "      <td>37.3</td>\n",
       "      <td>38.0</td>\n",
       "      <td>7587900</td>\n",
       "      <td>0</td>\n",
       "    </tr>\n",
       "    <tr>\n",
       "      <th>2017-01-04</th>\n",
       "      <td>37.4</td>\n",
       "      <td>38.1</td>\n",
       "      <td>37.3</td>\n",
       "      <td>38.0</td>\n",
       "      <td>7587900</td>\n",
       "      <td>0</td>\n",
       "    </tr>\n",
       "    <tr>\n",
       "      <th>2017-01-05</th>\n",
       "      <td>38.2</td>\n",
       "      <td>38.8</td>\n",
       "      <td>38.2</td>\n",
       "      <td>38.7</td>\n",
       "      <td>7528200</td>\n",
       "      <td>0</td>\n",
       "    </tr>\n",
       "    <tr>\n",
       "      <th>2017-01-05</th>\n",
       "      <td>38.2</td>\n",
       "      <td>38.8</td>\n",
       "      <td>38.2</td>\n",
       "      <td>38.7</td>\n",
       "      <td>7528200</td>\n",
       "      <td>0</td>\n",
       "    </tr>\n",
       "    <tr>\n",
       "      <th>2017-01-06</th>\n",
       "      <td>38.7</td>\n",
       "      <td>38.9</td>\n",
       "      <td>38.5</td>\n",
       "      <td>38.9</td>\n",
       "      <td>4512900</td>\n",
       "      <td>0</td>\n",
       "    </tr>\n",
       "  </tbody>\n",
       "</table>\n",
       "</div>"
      ],
      "text/plain": [
       "            open  high   low  close   volume  oi\n",
       "time                                            \n",
       "2017-01-04  37.4  38.1  37.3   38.0  7587900   0\n",
       "2017-01-04  37.4  38.1  37.3   38.0  7587900   0\n",
       "2017-01-05  38.2  38.8  38.2   38.7  7528200   0\n",
       "2017-01-05  38.2  38.8  38.2   38.7  7528200   0\n",
       "2017-01-06  38.7  38.9  38.5   38.9  4512900   0"
      ]
     },
     "execution_count": 3,
     "metadata": {},
     "output_type": "execute_result"
    }
   ],
   "source": [
    "df.head(5)\n"
   ]
  },
  {
   "cell_type": "code",
   "execution_count": 4,
   "metadata": {},
   "outputs": [
    {
     "data": {
      "text/html": [
       "<div>\n",
       "<style scoped>\n",
       "    .dataframe tbody tr th:only-of-type {\n",
       "        vertical-align: middle;\n",
       "    }\n",
       "\n",
       "    .dataframe tbody tr th {\n",
       "        vertical-align: top;\n",
       "    }\n",
       "\n",
       "    .dataframe thead th {\n",
       "        text-align: right;\n",
       "    }\n",
       "</style>\n",
       "<table border=\"1\" class=\"dataframe\">\n",
       "  <thead>\n",
       "    <tr style=\"text-align: right;\">\n",
       "      <th></th>\n",
       "      <th>open</th>\n",
       "      <th>high</th>\n",
       "      <th>low</th>\n",
       "      <th>close</th>\n",
       "      <th>volume</th>\n",
       "      <th>oi</th>\n",
       "    </tr>\n",
       "    <tr>\n",
       "      <th>time</th>\n",
       "      <th></th>\n",
       "      <th></th>\n",
       "      <th></th>\n",
       "      <th></th>\n",
       "      <th></th>\n",
       "      <th></th>\n",
       "    </tr>\n",
       "  </thead>\n",
       "  <tbody>\n",
       "    <tr>\n",
       "      <th>2018-08-10 07:00:00</th>\n",
       "      <td>52.25</td>\n",
       "      <td>52.75</td>\n",
       "      <td>51.75</td>\n",
       "      <td>51.75</td>\n",
       "      <td>47011600</td>\n",
       "      <td>0</td>\n",
       "    </tr>\n",
       "    <tr>\n",
       "      <th>2018-08-14 07:00:00</th>\n",
       "      <td>51.50</td>\n",
       "      <td>52.00</td>\n",
       "      <td>51.00</td>\n",
       "      <td>51.75</td>\n",
       "      <td>58340400</td>\n",
       "      <td>0</td>\n",
       "    </tr>\n",
       "    <tr>\n",
       "      <th>2018-08-15 07:00:00</th>\n",
       "      <td>51.50</td>\n",
       "      <td>51.75</td>\n",
       "      <td>50.75</td>\n",
       "      <td>51.00</td>\n",
       "      <td>52610500</td>\n",
       "      <td>0</td>\n",
       "    </tr>\n",
       "    <tr>\n",
       "      <th>2018-08-16 07:00:00</th>\n",
       "      <td>50.50</td>\n",
       "      <td>50.75</td>\n",
       "      <td>49.50</td>\n",
       "      <td>50.50</td>\n",
       "      <td>95573700</td>\n",
       "      <td>0</td>\n",
       "    </tr>\n",
       "    <tr>\n",
       "      <th>2018-08-17 07:00:00</th>\n",
       "      <td>51.00</td>\n",
       "      <td>52.00</td>\n",
       "      <td>51.00</td>\n",
       "      <td>51.50</td>\n",
       "      <td>70988500</td>\n",
       "      <td>0</td>\n",
       "    </tr>\n",
       "  </tbody>\n",
       "</table>\n",
       "</div>"
      ],
      "text/plain": [
       "                      open   high    low  close    volume  oi\n",
       "time                                                         \n",
       "2018-08-10 07:00:00  52.25  52.75  51.75  51.75  47011600   0\n",
       "2018-08-14 07:00:00  51.50  52.00  51.00  51.75  58340400   0\n",
       "2018-08-15 07:00:00  51.50  51.75  50.75  51.00  52610500   0\n",
       "2018-08-16 07:00:00  50.50  50.75  49.50  50.50  95573700   0\n",
       "2018-08-17 07:00:00  51.00  52.00  51.00  51.50  70988500   0"
      ]
     },
     "execution_count": 4,
     "metadata": {},
     "output_type": "execute_result"
    }
   ],
   "source": [
    "df.tail(5)"
   ]
  },
  {
   "cell_type": "code",
   "execution_count": 5,
   "metadata": {},
   "outputs": [
    {
     "data": {
      "text/html": [
       "<div>\n",
       "<style scoped>\n",
       "    .dataframe tbody tr th:only-of-type {\n",
       "        vertical-align: middle;\n",
       "    }\n",
       "\n",
       "    .dataframe tbody tr th {\n",
       "        vertical-align: top;\n",
       "    }\n",
       "\n",
       "    .dataframe thead th {\n",
       "        text-align: right;\n",
       "    }\n",
       "</style>\n",
       "<table border=\"1\" class=\"dataframe\">\n",
       "  <thead>\n",
       "    <tr style=\"text-align: right;\">\n",
       "      <th></th>\n",
       "      <th>A</th>\n",
       "    </tr>\n",
       "  </thead>\n",
       "  <tbody>\n",
       "    <tr>\n",
       "      <th>0</th>\n",
       "      <td>1</td>\n",
       "    </tr>\n",
       "    <tr>\n",
       "      <th>1</th>\n",
       "      <td>2</td>\n",
       "    </tr>\n",
       "    <tr>\n",
       "      <th>2</th>\n",
       "      <td>3</td>\n",
       "    </tr>\n",
       "  </tbody>\n",
       "</table>\n",
       "</div>"
      ],
      "text/plain": [
       "   A\n",
       "0  1\n",
       "1  2\n",
       "2  3"
      ]
     },
     "execution_count": 5,
     "metadata": {},
     "output_type": "execute_result"
    }
   ],
   "source": [
    "sampleA = pd.DataFrame({ 'A' : [1,2,3]})\n",
    "sampleA\n"
   ]
  },
  {
   "cell_type": "code",
   "execution_count": 6,
   "metadata": {},
   "outputs": [
    {
     "data": {
      "text/html": [
       "<div>\n",
       "<style scoped>\n",
       "    .dataframe tbody tr th:only-of-type {\n",
       "        vertical-align: middle;\n",
       "    }\n",
       "\n",
       "    .dataframe tbody tr th {\n",
       "        vertical-align: top;\n",
       "    }\n",
       "\n",
       "    .dataframe thead th {\n",
       "        text-align: right;\n",
       "    }\n",
       "</style>\n",
       "<table border=\"1\" class=\"dataframe\">\n",
       "  <thead>\n",
       "    <tr style=\"text-align: right;\">\n",
       "      <th></th>\n",
       "      <th>B</th>\n",
       "    </tr>\n",
       "  </thead>\n",
       "  <tbody>\n",
       "    <tr>\n",
       "      <th>0</th>\n",
       "      <td>4.0</td>\n",
       "    </tr>\n",
       "    <tr>\n",
       "      <th>1</th>\n",
       "      <td>5.0</td>\n",
       "    </tr>\n",
       "    <tr>\n",
       "      <th>2</th>\n",
       "      <td>NaN</td>\n",
       "    </tr>\n",
       "  </tbody>\n",
       "</table>\n",
       "</div>"
      ],
      "text/plain": [
       "     B\n",
       "0  4.0\n",
       "1  5.0\n",
       "2  NaN"
      ]
     },
     "execution_count": 6,
     "metadata": {},
     "output_type": "execute_result"
    }
   ],
   "source": [
    "sampleB = pd.DataFrame({ 'B' : [4,5,None]})\n",
    "sampleB\n"
   ]
  },
  {
   "cell_type": "code",
   "execution_count": 7,
   "metadata": {},
   "outputs": [
    {
     "data": {
      "text/html": [
       "<div>\n",
       "<style scoped>\n",
       "    .dataframe tbody tr th:only-of-type {\n",
       "        vertical-align: middle;\n",
       "    }\n",
       "\n",
       "    .dataframe tbody tr th {\n",
       "        vertical-align: top;\n",
       "    }\n",
       "\n",
       "    .dataframe thead th {\n",
       "        text-align: right;\n",
       "    }\n",
       "</style>\n",
       "<table border=\"1\" class=\"dataframe\">\n",
       "  <thead>\n",
       "    <tr style=\"text-align: right;\">\n",
       "      <th></th>\n",
       "      <th>A</th>\n",
       "      <th>B</th>\n",
       "    </tr>\n",
       "  </thead>\n",
       "  <tbody>\n",
       "    <tr>\n",
       "      <th>0</th>\n",
       "      <td>1</td>\n",
       "      <td>4.0</td>\n",
       "    </tr>\n",
       "    <tr>\n",
       "      <th>1</th>\n",
       "      <td>2</td>\n",
       "      <td>5.0</td>\n",
       "    </tr>\n",
       "    <tr>\n",
       "      <th>2</th>\n",
       "      <td>3</td>\n",
       "      <td>NaN</td>\n",
       "    </tr>\n",
       "  </tbody>\n",
       "</table>\n",
       "</div>"
      ],
      "text/plain": [
       "   A    B\n",
       "0  1  4.0\n",
       "1  2  5.0\n",
       "2  3  NaN"
      ]
     },
     "execution_count": 7,
     "metadata": {},
     "output_type": "execute_result"
    }
   ],
   "source": [
    "sampleC = pd.concat([sampleA, sampleB], axis=1)\n",
    "sampleC"
   ]
  },
  {
   "cell_type": "code",
   "execution_count": 8,
   "metadata": {},
   "outputs": [
    {
     "data": {
      "text/html": [
       "<div>\n",
       "<style scoped>\n",
       "    .dataframe tbody tr th:only-of-type {\n",
       "        vertical-align: middle;\n",
       "    }\n",
       "\n",
       "    .dataframe tbody tr th {\n",
       "        vertical-align: top;\n",
       "    }\n",
       "\n",
       "    .dataframe thead th {\n",
       "        text-align: right;\n",
       "    }\n",
       "</style>\n",
       "<table border=\"1\" class=\"dataframe\">\n",
       "  <thead>\n",
       "    <tr style=\"text-align: right;\">\n",
       "      <th></th>\n",
       "      <th>A</th>\n",
       "      <th>B</th>\n",
       "    </tr>\n",
       "  </thead>\n",
       "  <tbody>\n",
       "    <tr>\n",
       "      <th>0</th>\n",
       "      <td>1</td>\n",
       "      <td>4.0</td>\n",
       "    </tr>\n",
       "    <tr>\n",
       "      <th>1</th>\n",
       "      <td>2</td>\n",
       "      <td>5.0</td>\n",
       "    </tr>\n",
       "    <tr>\n",
       "      <th>2</th>\n",
       "      <td>3</td>\n",
       "      <td>NaN</td>\n",
       "    </tr>\n",
       "    <tr>\n",
       "      <th>3</th>\n",
       "      <td>8</td>\n",
       "      <td>9.0</td>\n",
       "    </tr>\n",
       "  </tbody>\n",
       "</table>\n",
       "</div>"
      ],
      "text/plain": [
       "   A    B\n",
       "0  1  4.0\n",
       "1  2  5.0\n",
       "2  3  NaN\n",
       "3  8  9.0"
      ]
     },
     "execution_count": 8,
     "metadata": {},
     "output_type": "execute_result"
    }
   ],
   "source": [
    "sampleC = sampleC.append(pd.DataFrame({ 'A' : [8] , 'B' : [9]}), ignore_index=True)\n",
    "sampleC"
   ]
  },
  {
   "cell_type": "code",
   "execution_count": 9,
   "metadata": {},
   "outputs": [
    {
     "name": "stdout",
     "output_type": "stream",
     "text": [
      "http://localhost:8087/api/v1/candlestick?symbol=PTT&timeframe=D&startTime=2018-03-01&endTime=2018-08-01\n"
     ]
    }
   ],
   "source": [
    "from io import StringIO\n",
    "import urllib\n",
    "\n",
    "# real url content with key\n",
    "stock_price_url = \"http://localhost:8087/api/v1/candlestick?symbol={}&timeframe={}&startTime={}&endTime={}\".format('PTT', 'D', '2018-03-01', '2018-08-01')\n",
    "print(stock_price_url)"
   ]
  },
  {
   "cell_type": "code",
   "execution_count": null,
   "metadata": {},
   "outputs": [],
   "source": []
  }
 ],
 "metadata": {
  "kernelspec": {
   "display_name": "Python 3",
   "language": "python",
   "name": "python3"
  },
  "language_info": {
   "codemirror_mode": {
    "name": "ipython",
    "version": 3
   },
   "file_extension": ".py",
   "mimetype": "text/x-python",
   "name": "python",
   "nbconvert_exporter": "python",
   "pygments_lexer": "ipython3",
   "version": "3.6.5"
  },
  "widgets": {
   "application/vnd.jupyter.widget-state+json": {
    "state": {},
    "version_major": 2.0,
    "version_minor": 0.0
   }
  }
 },
 "nbformat": 4,
 "nbformat_minor": 2
}
